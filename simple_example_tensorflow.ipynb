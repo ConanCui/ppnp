{
 "cells": [
  {
   "cell_type": "code",
   "execution_count": 1,
   "metadata": {},
   "outputs": [],
   "source": [
    "import logging\n",
    "import tensorflow as tf\n",
    "\n",
    "from ppnp.tensorflow import PPNP\n",
    "from ppnp.tensorflow.training import train_model\n",
    "from ppnp.tensorflow.earlystopping import stopping_args\n",
    "from ppnp.tensorflow.propagation import PPRExact, PPRPowerIteration\n",
    "from ppnp.data.io import load_dataset"
   ]
  },
  {
   "cell_type": "code",
   "execution_count": 2,
   "metadata": {},
   "outputs": [],
   "source": [
    "tf.logging.set_verbosity(tf.logging.INFO)\n",
    "logging.basicConfig(\n",
    "        format='%(asctime)s: %(message)s',\n",
    "        datefmt='%Y-%m-%d %H:%M:%S',\n",
    "        level=logging.INFO)"
   ]
  },
  {
   "cell_type": "markdown",
   "metadata": {},
   "source": [
    "# Load dataset\n",
    "\n",
    "First we need to load the dataset we want to train on. The datasets used are in the `SparseGraph` format. This is just a class providing the adjacency, attribute and label matrices in a dense (`np.ndarray`) or sparse (`scipy.sparse.csr_matrix`) matrix format and some (in principle unnecessary) convenience functions.\n",
    "\n",
    "The four datasets from the paper (Cora-ML, Citeseer, PubMed and MS Academic) can be found in the directory `data`.\n",
    "\n",
    "For this example we choose the Cora-ML graph."
   ]
  },
  {
   "cell_type": "code",
   "execution_count": 3,
   "metadata": {},
   "outputs": [
    {
     "data": {
      "text/plain": [
       "<Undirected, unweighted and connected SparseGraph with 15962 edges (no self-loops). Data: adj_matrix (2810x2810), attr_matrix (2810x2879), labels (2810), node_names (2810), attr_names (2879), class_names (7)>"
      ]
     },
     "execution_count": 3,
     "metadata": {},
     "output_type": "execute_result"
    }
   ],
   "source": [
    "graph_name = 'cora_ml'\n",
    "graph = load_dataset(graph_name)\n",
    "graph.standardize(select_lcc=True)"
   ]
  },
  {
   "cell_type": "markdown",
   "metadata": {},
   "source": [
    "# Set up propagation\n",
    "\n",
    "Next we need to set up the proper propagation scheme. In the paper we've introduced the exact PPR propagation used in PPNP and the PPR power iteration propagation used in APPNP.\n",
    "\n",
    "Here we use the hyperparameters from the paper. Note that we should use a different `alpha = 0.2` for MS Academic."
   ]
  },
  {
   "cell_type": "code",
   "execution_count": 4,
   "metadata": {},
   "outputs": [],
   "source": [
    "prop_ppnp = PPRExact(graph.adj_matrix, alpha=0.1)\n",
    "prop_appnp = PPRPowerIteration(graph.adj_matrix, alpha=0.1, niter=10)"
   ]
  },
  {
   "cell_type": "markdown",
   "metadata": {},
   "source": [
    "# Choose model hyperparameters\n",
    "\n",
    "Now we choose the hyperparameters. These are the ones used in the paper for all datasets.\n",
    "\n",
    "Note that we choose the propagation for APPNP."
   ]
  },
  {
   "cell_type": "code",
   "execution_count": 5,
   "metadata": {},
   "outputs": [],
   "source": [
    "model_args = {\n",
    "    'hiddenunits': [64],\n",
    "    'reg_lambda': 5e-3,\n",
    "    'learning_rate': 0.01,\n",
    "    'keep_prob': 0.5,\n",
    "    'propagation': prop_appnp}"
   ]
  },
  {
   "cell_type": "markdown",
   "metadata": {},
   "source": [
    "# Train model\n",
    "\n",
    "Now we can train the model."
   ]
  },
  {
   "cell_type": "code",
   "execution_count": 6,
   "metadata": {},
   "outputs": [],
   "source": [
    "idx_split_args = {'ntrain_per_class': 20, 'nstopping': 500, 'nknown': 1500, 'seed': 2413340114}\n",
    "test = False\n",
    "save_result = False\n",
    "print_interval = 20"
   ]
  },
  {
   "cell_type": "code",
   "execution_count": 7,
   "metadata": {},
   "outputs": [
    {
     "name": "stderr",
     "output_type": "stream",
     "text": [
      "2019-02-26 15:53:29: PPNP: {'hiddenunits': [64], 'reg_lambda': 0.005, 'learning_rate': 0.01, 'keep_prob': 0.5, 'propagation': <ppnp.tensorflow.propagation.PPRPowerIteration object at 0x7fa082f6dcc0>}\n",
      "2019-02-26 15:53:29: Tensorflow seed: 2932610457\n",
      "2019-02-26 15:53:32: Step 0: Train loss = 2.26, train acc = 75.7, early stopping loss = 2.10, early stopping acc = 65.6 (1.179 sec)\n",
      "2019-02-26 15:53:32: Step 20: Train loss = 1.46, train acc = 97.9, early stopping loss = 1.65, early stopping acc = 80.6 (0.722 sec)\n",
      "2019-02-26 15:53:33: Step 40: Train loss = 1.20, train acc = 99.3, early stopping loss = 1.39, early stopping acc = 80.2 (0.628 sec)\n",
      "2019-02-26 15:53:34: Step 60: Train loss = 1.02, train acc = 100.0, early stopping loss = 1.25, early stopping acc = 80.8 (0.637 sec)\n",
      "2019-02-26 15:53:34: Step 80: Train loss = 0.93, train acc = 100.0, early stopping loss = 1.16, early stopping acc = 80.4 (0.636 sec)\n",
      "2019-02-26 15:53:35: Step 100: Train loss = 0.90, train acc = 100.0, early stopping loss = 1.12, early stopping acc = 80.8 (0.639 sec)\n",
      "2019-02-26 15:53:35: Step 120: Train loss = 0.76, train acc = 100.0, early stopping loss = 1.08, early stopping acc = 81.6 (0.626 sec)\n",
      "2019-02-26 15:53:36: Step 140: Train loss = 0.72, train acc = 100.0, early stopping loss = 1.00, early stopping acc = 81.4 (0.645 sec)\n",
      "2019-02-26 15:53:37: Step 160: Train loss = 0.72, train acc = 100.0, early stopping loss = 1.01, early stopping acc = 80.6 (0.632 sec)\n",
      "2019-02-26 15:53:37: Step 180: Train loss = 0.74, train acc = 100.0, early stopping loss = 0.96, early stopping acc = 81.4 (0.630 sec)\n",
      "2019-02-26 15:53:38: Step 200: Train loss = 0.63, train acc = 100.0, early stopping loss = 0.94, early stopping acc = 81.6 (0.630 sec)\n",
      "2019-02-26 15:53:39: Step 220: Train loss = 0.66, train acc = 100.0, early stopping loss = 0.91, early stopping acc = 82.0 (0.630 sec)\n",
      "2019-02-26 15:53:39: Step 240: Train loss = 0.66, train acc = 100.0, early stopping loss = 0.91, early stopping acc = 82.0 (0.625 sec)\n",
      "2019-02-26 15:53:40: Step 260: Train loss = 0.61, train acc = 100.0, early stopping loss = 0.88, early stopping acc = 82.2 (0.634 sec)\n",
      "2019-02-26 15:53:41: Step 280: Train loss = 0.57, train acc = 99.3, early stopping loss = 0.90, early stopping acc = 82.2 (0.627 sec)\n",
      "2019-02-26 15:53:41: Step 300: Train loss = 0.66, train acc = 99.3, early stopping loss = 0.91, early stopping acc = 80.2 (0.631 sec)\n",
      "2019-02-26 15:53:42: Step 320: Train loss = 0.58, train acc = 100.0, early stopping loss = 0.86, early stopping acc = 82.6 (0.638 sec)\n",
      "2019-02-26 15:53:42: Step 340: Train loss = 0.57, train acc = 100.0, early stopping loss = 0.87, early stopping acc = 80.8 (0.625 sec)\n",
      "2019-02-26 15:53:43: Step 360: Train loss = 0.52, train acc = 100.0, early stopping loss = 0.83, early stopping acc = 81.6 (0.626 sec)\n",
      "2019-02-26 15:53:44: Step 380: Train loss = 0.50, train acc = 100.0, early stopping loss = 0.81, early stopping acc = 82.6 (0.641 sec)\n",
      "2019-02-26 15:53:44: Step 400: Train loss = 0.54, train acc = 100.0, early stopping loss = 0.90, early stopping acc = 79.8 (0.624 sec)\n",
      "2019-02-26 15:53:45: Step 420: Train loss = 0.54, train acc = 100.0, early stopping loss = 0.86, early stopping acc = 81.2 (0.635 sec)\n",
      "2019-02-26 15:53:46: Step 440: Train loss = 0.48, train acc = 99.3, early stopping loss = 0.82, early stopping acc = 83.0 (0.637 sec)\n",
      "2019-02-26 15:53:46: Step 460: Train loss = 0.51, train acc = 99.3, early stopping loss = 0.82, early stopping acc = 82.0 (0.622 sec)\n",
      "2019-02-26 15:53:47: Step 480: Train loss = 0.49, train acc = 100.0, early stopping loss = 0.77, early stopping acc = 84.2 (0.593 sec)\n",
      "2019-02-26 15:53:47: Step 500: Train loss = 0.45, train acc = 100.0, early stopping loss = 0.94, early stopping acc = 78.2 (0.606 sec)\n",
      "2019-02-26 15:53:48: Step 520: Train loss = 0.48, train acc = 100.0, early stopping loss = 0.85, early stopping acc = 81.6 (0.640 sec)\n",
      "2019-02-26 15:53:49: Step 540: Train loss = 0.47, train acc = 100.0, early stopping loss = 0.93, early stopping acc = 79.4 (0.599 sec)\n",
      "2019-02-26 15:53:49: Step 560: Train loss = 0.47, train acc = 100.0, early stopping loss = 0.84, early stopping acc = 81.8 (0.621 sec)\n",
      "2019-02-26 15:53:50: Step 580: Train loss = 0.48, train acc = 100.0, early stopping loss = 0.89, early stopping acc = 79.6 (0.474 sec)\n",
      "2019-02-26 15:53:50: Step 600: Train loss = 0.42, train acc = 100.0, early stopping loss = 0.79, early stopping acc = 81.6 (0.547 sec)\n",
      "2019-02-26 15:53:51: Step 620: Train loss = 0.53, train acc = 100.0, early stopping loss = 0.89, early stopping acc = 80.4 (0.569 sec)\n",
      "2019-02-26 15:53:51: Step 640: Train loss = 0.40, train acc = 100.0, early stopping loss = 0.90, early stopping acc = 79.4 (0.553 sec)\n",
      "2019-02-26 15:53:52: Step 660: Train loss = 0.44, train acc = 100.0, early stopping loss = 0.80, early stopping acc = 81.8 (0.566 sec)\n",
      "2019-02-26 15:53:52: Last step: 677, best step: 258 (22.063 sec)\n",
      "2019-02-26 15:53:53: Early stopping accuracy: 84.6%, early stopping F1 score: 0.830\n",
      "2019-02-26 15:53:53: Validation accuracy: 83.6%, test F1 score: 0.821\n",
      "2019-02-26 15:53:53: Validation confusion matrix:\n",
      "Labels        0   1    2   3    4   5   6\n",
      "Predictions                              \n",
      "0            81   6    1   6    2   4   1\n",
      "1             4  82    0   8   12   6   0\n",
      "2             3   0  118   0    2   0   1\n",
      "3             0   3    0  96   16   0   0\n",
      "4             1  10    1   7  222   0   1\n",
      "5             7   7    0   0    3  36   0\n",
      "6             1   4    6   3   13   2  84\n"
     ]
    }
   ],
   "source": [
    "result = train_model(\n",
    "        graph_name, PPNP, graph, model_args, idx_split_args,\n",
    "        stopping_args, test, save_result, None, print_interval)"
   ]
  }
 ],
 "metadata": {
  "kernelspec": {
   "display_name": "Python 3",
   "language": "python",
   "name": "python3"
  },
  "language_info": {
   "codemirror_mode": {
    "name": "ipython",
    "version": 3
   },
   "file_extension": ".py",
   "mimetype": "text/x-python",
   "name": "python",
   "nbconvert_exporter": "python",
   "pygments_lexer": "ipython3",
   "version": "3.6.6"
  }
 },
 "nbformat": 4,
 "nbformat_minor": 2
}
