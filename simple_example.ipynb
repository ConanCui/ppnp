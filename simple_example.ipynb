{
 "cells": [
  {
   "cell_type": "code",
   "execution_count": 1,
   "metadata": {},
   "outputs": [],
   "source": [
    "import logging\n",
    "import tensorflow as tf\n",
    "\n",
    "from ppnp import PPNP\n",
    "from ppnp.training import train_model\n",
    "from ppnp.earlystopping import stopping_args\n",
    "from ppnp.data.io import load_dataset\n",
    "from ppnp.propagation import PPRExact, PPRPowerIteration"
   ]
  },
  {
   "cell_type": "code",
   "execution_count": 2,
   "metadata": {},
   "outputs": [],
   "source": [
    "tf.logging.set_verbosity(tf.logging.INFO)\n",
    "logging.basicConfig(\n",
    "        format='%(asctime)s: %(message)s',\n",
    "        datefmt='%Y-%m-%d %H:%M:%S',\n",
    "        level=logging.INFO)"
   ]
  },
  {
   "cell_type": "markdown",
   "metadata": {},
   "source": [
    "# Load dataset\n",
    "\n",
    "First we need to load the dataset we want to train on. The datasets used are in the `SparseGraph` format. This is just a class providing the adjacency, attribute and label matrices in a dense (`np.ndarray`) or sparse (`scipy.sparse.csr_matrix`) matrix format and some (in principle unnecessary) convenience functions.\n",
    "\n",
    "The four datasets from the paper (Cora-ML, Citeseer, PubMed and MS Academic) can be found in the directory `data`.\n",
    "\n",
    "For this example we choose the Cora-ML graph."
   ]
  },
  {
   "cell_type": "code",
   "execution_count": 3,
   "metadata": {},
   "outputs": [
    {
     "data": {
      "text/plain": [
       "<Undirected, unweighted and connected SparseGraph with 15962 edges (no self-loops). Data: adj_matrix (2810x2810), attr_matrix (2810x2879), labels (2810), node_names (2810), attr_names (2879), class_names (7)>"
      ]
     },
     "execution_count": 3,
     "metadata": {},
     "output_type": "execute_result"
    }
   ],
   "source": [
    "graph_name = 'cora_ml'\n",
    "graph = load_dataset(graph_name)\n",
    "graph.standardize(select_lcc=True)"
   ]
  },
  {
   "cell_type": "markdown",
   "metadata": {},
   "source": [
    "# Set up propagation\n",
    "\n",
    "Next we need to set up the proper propagation scheme. In the paper we've introduced the exact PPR propagation used in PPNP and the PPR power iteration propagation used in APPNP.\n",
    "\n",
    "Here we use the hyperparameters from the paper. We only need a different `alpha = 0.2` for MS Academic."
   ]
  },
  {
   "cell_type": "code",
   "execution_count": 4,
   "metadata": {},
   "outputs": [],
   "source": [
    "prop_ppnp = PPRExact(graph.adj_matrix, alpha=0.1)\n",
    "prop_appnp = PPRPowerIteration(graph.adj_matrix, alpha=0.1, niter=10)"
   ]
  },
  {
   "cell_type": "markdown",
   "metadata": {},
   "source": [
    "# Choose model hyperparameters\n",
    "\n",
    "Now we choose the hyperparameters. These are the ones used in the paper for all datasets.\n",
    "\n",
    "Notice that we choose the propagation for APPNP."
   ]
  },
  {
   "cell_type": "code",
   "execution_count": 5,
   "metadata": {},
   "outputs": [],
   "source": [
    "model_args = {\n",
    "    'hiddenunits': [64],\n",
    "    'reg_lambda': 5e-3,\n",
    "    'learning_rate': 0.01,\n",
    "    'keep_prob': 0.5,\n",
    "    'propagation': prop_appnp}"
   ]
  },
  {
   "cell_type": "markdown",
   "metadata": {},
   "source": [
    "# Train model\n",
    "\n",
    "Now we can train the model."
   ]
  },
  {
   "cell_type": "code",
   "execution_count": 6,
   "metadata": {},
   "outputs": [],
   "source": [
    "idx_split_args = {'ntrain_per_class': 20, 'nstopping': 500, 'nknown': 1500, 'seed': 2413340114}\n",
    "test = False\n",
    "save_result = False\n",
    "print_interval = 20"
   ]
  },
  {
   "cell_type": "code",
   "execution_count": 7,
   "metadata": {},
   "outputs": [
    {
     "name": "stderr",
     "output_type": "stream",
     "text": [
      "2019-02-20 13:14:24: PPNP: {'hiddenunits': [64], 'reg_lambda': 0.005, 'learning_rate': 0.01, 'keep_prob': 0.5, 'propagation': <ppnp.propagation.PPRPowerIteration object at 0x7f96a719e8d0>}\n",
      "2019-02-20 13:14:24: Tensorflow seed: 1687759250\n",
      "2019-02-20 13:14:27: Step 0: Train loss = 2.26, train acc = 63.6, early stopping loss = 2.10, early stopping acc = 38.6 (1.163 sec)\n",
      "2019-02-20 13:14:28: Step 20: Train loss = 1.49, train acc = 97.1, early stopping loss = 1.68, early stopping acc = 77.8 (0.757 sec)\n",
      "2019-02-20 13:14:29: Step 40: Train loss = 1.20, train acc = 100.0, early stopping loss = 1.40, early stopping acc = 81.0 (0.632 sec)\n",
      "2019-02-20 13:14:29: Step 60: Train loss = 1.06, train acc = 100.0, early stopping loss = 1.25, early stopping acc = 81.8 (0.646 sec)\n",
      "2019-02-20 13:14:30: Step 80: Train loss = 0.91, train acc = 100.0, early stopping loss = 1.16, early stopping acc = 81.4 (0.631 sec)\n",
      "2019-02-20 13:14:30: Step 100: Train loss = 0.86, train acc = 99.3, early stopping loss = 1.10, early stopping acc = 80.8 (0.635 sec)\n",
      "2019-02-20 13:14:31: Step 120: Train loss = 0.83, train acc = 99.3, early stopping loss = 1.07, early stopping acc = 79.8 (0.644 sec)\n",
      "2019-02-20 13:14:32: Step 140: Train loss = 0.76, train acc = 100.0, early stopping loss = 1.05, early stopping acc = 79.6 (0.637 sec)\n",
      "2019-02-20 13:14:32: Step 160: Train loss = 0.67, train acc = 100.0, early stopping loss = 0.98, early stopping acc = 81.8 (0.640 sec)\n",
      "2019-02-20 13:14:33: Step 180: Train loss = 0.78, train acc = 99.3, early stopping loss = 0.96, early stopping acc = 83.2 (0.635 sec)\n",
      "2019-02-20 13:14:34: Step 200: Train loss = 0.69, train acc = 100.0, early stopping loss = 0.95, early stopping acc = 80.0 (0.640 sec)\n",
      "2019-02-20 13:14:34: Step 220: Train loss = 0.58, train acc = 100.0, early stopping loss = 0.92, early stopping acc = 81.6 (0.625 sec)\n",
      "2019-02-20 13:14:35: Step 240: Train loss = 0.63, train acc = 100.0, early stopping loss = 0.90, early stopping acc = 80.8 (0.625 sec)\n",
      "2019-02-20 13:14:36: Step 260: Train loss = 0.53, train acc = 100.0, early stopping loss = 0.93, early stopping acc = 81.0 (0.622 sec)\n",
      "2019-02-20 13:14:36: Step 280: Train loss = 0.59, train acc = 100.0, early stopping loss = 0.88, early stopping acc = 84.0 (0.627 sec)\n",
      "2019-02-20 13:14:37: Step 300: Train loss = 0.55, train acc = 100.0, early stopping loss = 0.88, early stopping acc = 82.8 (0.628 sec)\n",
      "2019-02-20 13:14:37: Step 320: Train loss = 0.53, train acc = 100.0, early stopping loss = 0.88, early stopping acc = 80.4 (0.646 sec)\n",
      "2019-02-20 13:14:38: Step 340: Train loss = 0.53, train acc = 100.0, early stopping loss = 0.89, early stopping acc = 80.8 (0.627 sec)\n",
      "2019-02-20 13:14:39: Step 360: Train loss = 0.56, train acc = 100.0, early stopping loss = 0.90, early stopping acc = 80.8 (0.618 sec)\n",
      "2019-02-20 13:14:39: Step 380: Train loss = 0.56, train acc = 100.0, early stopping loss = 0.83, early stopping acc = 83.0 (0.637 sec)\n",
      "2019-02-20 13:14:40: Step 400: Train loss = 0.54, train acc = 100.0, early stopping loss = 0.88, early stopping acc = 81.6 (0.632 sec)\n",
      "2019-02-20 13:14:41: Step 420: Train loss = 0.51, train acc = 100.0, early stopping loss = 0.80, early stopping acc = 84.6 (0.636 sec)\n",
      "2019-02-20 13:14:41: Step 440: Train loss = 0.52, train acc = 100.0, early stopping loss = 0.78, early stopping acc = 84.2 (0.634 sec)\n",
      "2019-02-20 13:14:42: Step 460: Train loss = 0.50, train acc = 100.0, early stopping loss = 0.84, early stopping acc = 79.4 (0.630 sec)\n",
      "2019-02-20 13:14:42: Step 480: Train loss = 0.51, train acc = 99.3, early stopping loss = 0.82, early stopping acc = 82.0 (0.632 sec)\n",
      "2019-02-20 13:14:43: Step 500: Train loss = 0.52, train acc = 100.0, early stopping loss = 0.85, early stopping acc = 80.4 (0.639 sec)\n",
      "2019-02-20 13:14:44: Step 520: Train loss = 0.49, train acc = 100.0, early stopping loss = 0.79, early stopping acc = 84.4 (0.631 sec)\n",
      "2019-02-20 13:14:44: Step 540: Train loss = 0.47, train acc = 100.0, early stopping loss = 0.80, early stopping acc = 82.2 (0.637 sec)\n",
      "2019-02-20 13:14:45: Step 560: Train loss = 0.47, train acc = 100.0, early stopping loss = 0.81, early stopping acc = 83.2 (0.641 sec)\n",
      "2019-02-20 13:14:46: Step 580: Train loss = 0.47, train acc = 99.3, early stopping loss = 0.81, early stopping acc = 81.0 (0.641 sec)\n",
      "2019-02-20 13:14:46: Step 600: Train loss = 0.43, train acc = 100.0, early stopping loss = 0.75, early stopping acc = 85.0 (0.633 sec)\n",
      "2019-02-20 13:14:47: Step 620: Train loss = 0.42, train acc = 100.0, early stopping loss = 0.79, early stopping acc = 82.4 (0.628 sec)\n",
      "2019-02-20 13:14:48: Step 640: Train loss = 0.45, train acc = 99.3, early stopping loss = 0.75, early stopping acc = 83.0 (0.626 sec)\n",
      "2019-02-20 13:14:48: Step 660: Train loss = 0.50, train acc = 100.0, early stopping loss = 0.81, early stopping acc = 84.2 (0.637 sec)\n",
      "2019-02-20 13:14:49: Step 680: Train loss = 0.44, train acc = 100.0, early stopping loss = 0.83, early stopping acc = 81.2 (0.632 sec)\n",
      "2019-02-20 13:14:49: Step 700: Train loss = 0.40, train acc = 99.3, early stopping loss = 0.78, early stopping acc = 82.0 (0.639 sec)\n",
      "2019-02-20 13:14:50: Step 720: Train loss = 0.47, train acc = 100.0, early stopping loss = 0.83, early stopping acc = 81.4 (0.632 sec)\n",
      "2019-02-20 13:14:51: Step 740: Train loss = 0.45, train acc = 100.0, early stopping loss = 0.81, early stopping acc = 81.4 (0.631 sec)\n",
      "2019-02-20 13:14:51: Step 760: Train loss = 0.42, train acc = 100.0, early stopping loss = 0.83, early stopping acc = 80.4 (0.637 sec)\n",
      "2019-02-20 13:14:52: Step 780: Train loss = 0.44, train acc = 100.0, early stopping loss = 0.83, early stopping acc = 79.0 (0.627 sec)\n",
      "2019-02-20 13:14:53: Step 800: Train loss = 0.47, train acc = 100.0, early stopping loss = 0.78, early stopping acc = 81.8 (0.638 sec)\n",
      "2019-02-20 13:14:53: Step 820: Train loss = 0.41, train acc = 100.0, early stopping loss = 0.79, early stopping acc = 81.4 (0.636 sec)\n",
      "2019-02-20 13:14:54: Step 840: Train loss = 0.45, train acc = 100.0, early stopping loss = 0.83, early stopping acc = 80.4 (0.634 sec)\n",
      "2019-02-20 13:14:55: Step 860: Train loss = 0.42, train acc = 100.0, early stopping loss = 0.80, early stopping acc = 84.2 (0.625 sec)\n",
      "2019-02-20 13:14:55: Last step: 869, best step: 669 (28.816 sec)\n",
      "2019-02-20 13:14:55: Early stopping accuracy: 85.4%, early stopping F1 score: 0.830\n",
      "2019-02-20 13:14:55: Validation accuracy: 84.4%, val F1 score: 0.831\n",
      "2019-02-20 13:14:55: \n",
      "Labels         0    1    2    3    4    5    6\n",
      "Predictions                                   \n",
      "0            312   39    5   39   17   10    1\n",
      "1              4  285    2   19   28    8    1\n",
      "2              6    1  426    0   10    0    9\n",
      "3              0    7    0  304   26    0    0\n",
      "4              1   26    1   36  670    1    5\n",
      "5             21   24    0    0    8  129    1\n",
      "6              4   11    6    9   22    2  274\n"
     ]
    }
   ],
   "source": [
    "result = train_model(\n",
    "        graph_name, PPNP, graph, model_args, idx_split_args,\n",
    "        stopping_args, test, save_result, print_interval)"
   ]
  }
 ],
 "metadata": {
  "kernelspec": {
   "display_name": "Python 3",
   "language": "python",
   "name": "python3"
  },
  "language_info": {
   "codemirror_mode": {
    "name": "ipython",
    "version": 3
   },
   "file_extension": ".py",
   "mimetype": "text/x-python",
   "name": "python",
   "nbconvert_exporter": "python",
   "pygments_lexer": "ipython3",
   "version": "3.6.6"
  }
 },
 "nbformat": 4,
 "nbformat_minor": 2
}
