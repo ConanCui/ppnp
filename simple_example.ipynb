{
 "cells": [
  {
   "cell_type": "code",
   "execution_count": 1,
   "metadata": {},
   "outputs": [],
   "source": [
    "import logging\n",
    "import tensorflow as tf\n",
    "\n",
    "from ppnp import PPNP\n",
    "from ppnp.training import train_model\n",
    "from ppnp.earlystopping import stopping_args\n",
    "from ppnp.data.io import load_dataset\n",
    "from ppnp.propagation import PPRExact, PPRPowerIteration"
   ]
  },
  {
   "cell_type": "code",
   "execution_count": 2,
   "metadata": {},
   "outputs": [],
   "source": [
    "tf.logging.set_verbosity(tf.logging.INFO)\n",
    "logging.basicConfig(\n",
    "        format='%(asctime)s: %(message)s',\n",
    "        datefmt='%Y-%m-%d %H:%M:%S',\n",
    "        level=logging.INFO)"
   ]
  },
  {
   "cell_type": "markdown",
   "metadata": {},
   "source": [
    "# Load dataset\n",
    "\n",
    "First we need to load the dataset we want to train on. The datasets used are in the `SparseGraph` format. This is just a class providing the adjacency, attribute and label matrices in a dense (`np.ndarray`) or sparse (`scipy.sparse.csr_matrix`) matrix format and some (in principle unnecessary) convenience functions.\n",
    "\n",
    "The four datasets from the paper (Cora-ML, Citeseer, PubMed and MS Academic) can be found in the directory `data`.\n",
    "\n",
    "For this example we choose the Cora-ML graph."
   ]
  },
  {
   "cell_type": "code",
   "execution_count": 3,
   "metadata": {},
   "outputs": [
    {
     "data": {
      "text/plain": [
       "<Undirected, unweighted and connected SparseGraph with 15962 edges (no self-loops). Data: adj_matrix (2810x2810), attr_matrix (2810x2879), labels (2810), node_names (2810), attr_names (2879), class_names (7)>"
      ]
     },
     "execution_count": 3,
     "metadata": {},
     "output_type": "execute_result"
    }
   ],
   "source": [
    "graph_name = 'cora_ml'\n",
    "graph = load_dataset(graph_name)\n",
    "graph.standardize(select_lcc=True)"
   ]
  },
  {
   "cell_type": "markdown",
   "metadata": {},
   "source": [
    "# Set up propagation\n",
    "\n",
    "Next we need to set up the proper propagation scheme. In the paper we've introduced the exact PPR propagation used in PPNP and the PPR power iteration propagation used in APPNP.\n",
    "\n",
    "Here we use the hyperparameters from the paper. Note that we should use a different `alpha = 0.2` for MS Academic."
   ]
  },
  {
   "cell_type": "code",
   "execution_count": 4,
   "metadata": {},
   "outputs": [],
   "source": [
    "prop_ppnp = PPRExact(graph.adj_matrix, alpha=0.1)\n",
    "prop_appnp = PPRPowerIteration(graph.adj_matrix, alpha=0.1, niter=10)"
   ]
  },
  {
   "cell_type": "markdown",
   "metadata": {},
   "source": [
    "# Choose model hyperparameters\n",
    "\n",
    "Now we choose the hyperparameters. These are the ones used in the paper for all datasets.\n",
    "\n",
    "Note that we choose the propagation for APPNP."
   ]
  },
  {
   "cell_type": "code",
   "execution_count": 5,
   "metadata": {},
   "outputs": [],
   "source": [
    "model_args = {\n",
    "    'hiddenunits': [64],\n",
    "    'reg_lambda': 5e-3,\n",
    "    'learning_rate': 0.01,\n",
    "    'keep_prob': 0.5,\n",
    "    'propagation': prop_appnp}"
   ]
  },
  {
   "cell_type": "markdown",
   "metadata": {},
   "source": [
    "# Train model\n",
    "\n",
    "Now we can train the model."
   ]
  },
  {
   "cell_type": "code",
   "execution_count": 6,
   "metadata": {},
   "outputs": [],
   "source": [
    "idx_split_args = {'ntrain_per_class': 20, 'nstopping': 500, 'nknown': 1500, 'seed': 2413340114}\n",
    "test = False\n",
    "save_result = False\n",
    "print_interval = 20"
   ]
  },
  {
   "cell_type": "code",
   "execution_count": 7,
   "metadata": {},
   "outputs": [
    {
     "name": "stderr",
     "output_type": "stream",
     "text": [
      "2019-02-25 17:03:01: PPNP: {'hiddenunits': [64], 'reg_lambda': 0.005, 'learning_rate': 0.01, 'keep_prob': 0.5, 'propagation': <ppnp.propagation.PPRPowerIteration object at 0x7eff06bc5c18>}\n",
      "2019-02-25 17:03:01: Tensorflow seed: 3693705203\n",
      "2019-02-25 17:03:04: Step 0: Train loss = 2.26, train acc = 60.7, early stopping loss = 2.11, early stopping acc = 41.8 (1.185 sec)\n",
      "2019-02-25 17:03:04: Step 20: Train loss = 1.51, train acc = 99.3, early stopping loss = 1.65, early stopping acc = 81.0 (0.723 sec)\n",
      "2019-02-25 17:03:05: Step 40: Train loss = 1.12, train acc = 99.3, early stopping loss = 1.37, early stopping acc = 81.6 (0.644 sec)\n",
      "2019-02-25 17:03:06: Step 60: Train loss = 1.02, train acc = 99.3, early stopping loss = 1.24, early stopping acc = 81.6 (0.643 sec)\n",
      "2019-02-25 17:03:06: Step 80: Train loss = 0.99, train acc = 100.0, early stopping loss = 1.13, early stopping acc = 83.4 (0.644 sec)\n",
      "2019-02-25 17:03:07: Step 100: Train loss = 0.79, train acc = 100.0, early stopping loss = 1.08, early stopping acc = 82.4 (0.642 sec)\n",
      "2019-02-25 17:03:08: Step 120: Train loss = 0.77, train acc = 100.0, early stopping loss = 1.05, early stopping acc = 82.2 (0.635 sec)\n",
      "2019-02-25 17:03:08: Step 140: Train loss = 0.77, train acc = 100.0, early stopping loss = 1.02, early stopping acc = 81.0 (0.636 sec)\n",
      "2019-02-25 17:03:09: Step 160: Train loss = 0.76, train acc = 100.0, early stopping loss = 0.97, early stopping acc = 81.4 (0.640 sec)\n",
      "2019-02-25 17:03:09: Step 180: Train loss = 0.72, train acc = 100.0, early stopping loss = 0.95, early stopping acc = 82.2 (0.644 sec)\n",
      "2019-02-25 17:03:10: Step 200: Train loss = 0.63, train acc = 100.0, early stopping loss = 0.94, early stopping acc = 82.2 (0.644 sec)\n",
      "2019-02-25 17:03:11: Step 220: Train loss = 0.60, train acc = 100.0, early stopping loss = 0.95, early stopping acc = 82.0 (0.642 sec)\n",
      "2019-02-25 17:03:11: Step 240: Train loss = 0.63, train acc = 100.0, early stopping loss = 0.92, early stopping acc = 82.0 (0.636 sec)\n",
      "2019-02-25 17:03:12: Step 260: Train loss = 0.61, train acc = 100.0, early stopping loss = 0.89, early stopping acc = 81.8 (0.644 sec)\n",
      "2019-02-25 17:03:13: Step 280: Train loss = 0.56, train acc = 100.0, early stopping loss = 0.86, early stopping acc = 83.0 (0.636 sec)\n",
      "2019-02-25 17:03:13: Step 300: Train loss = 0.61, train acc = 100.0, early stopping loss = 0.91, early stopping acc = 82.0 (0.636 sec)\n",
      "2019-02-25 17:03:14: Step 320: Train loss = 0.60, train acc = 100.0, early stopping loss = 0.87, early stopping acc = 83.2 (0.636 sec)\n",
      "2019-02-25 17:03:15: Step 340: Train loss = 0.51, train acc = 100.0, early stopping loss = 0.81, early stopping acc = 83.8 (0.630 sec)\n",
      "2019-02-25 17:03:15: Step 360: Train loss = 0.56, train acc = 100.0, early stopping loss = 0.83, early stopping acc = 82.6 (0.645 sec)\n",
      "2019-02-25 17:03:16: Step 380: Train loss = 0.54, train acc = 100.0, early stopping loss = 0.86, early stopping acc = 82.4 (0.643 sec)\n",
      "2019-02-25 17:03:16: Step 400: Train loss = 0.51, train acc = 100.0, early stopping loss = 0.85, early stopping acc = 82.4 (0.650 sec)\n",
      "2019-02-25 17:03:17: Step 420: Train loss = 0.57, train acc = 100.0, early stopping loss = 0.87, early stopping acc = 81.6 (0.641 sec)\n",
      "2019-02-25 17:03:18: Step 440: Train loss = 0.46, train acc = 100.0, early stopping loss = 0.82, early stopping acc = 83.0 (0.637 sec)\n",
      "2019-02-25 17:03:18: Step 460: Train loss = 0.70, train acc = 99.3, early stopping loss = 0.84, early stopping acc = 81.4 (0.635 sec)\n",
      "2019-02-25 17:03:19: Last step: 468, best step: 237 (16.251 sec)\n",
      "2019-02-25 17:03:19: Early stopping accuracy: 85.2%, early stopping F1 score: 0.835\n",
      "2019-02-25 17:03:19: Validation accuracy: 84.9%, test F1 score: 0.835\n",
      "2019-02-25 17:03:19: Validation confusion matrix:\n",
      "Labels        0   1    2   3    4   5   6\n",
      "Predictions                              \n",
      "0            79   4    1   5    3   1   1\n",
      "1             4  80    0   8    9   4   0\n",
      "2             3   1  123   0    1   0   2\n",
      "3             0   3    0  93   12   0   0\n",
      "4             1  10    1  10  231   0   1\n",
      "5             9   9    0   0    3  41   0\n",
      "6             1   5    1   4   11   2  83\n"
     ]
    }
   ],
   "source": [
    "result = train_model(\n",
    "        graph_name, PPNP, graph, model_args, idx_split_args,\n",
    "        stopping_args, test, save_result, None, print_interval)"
   ]
  }
 ],
 "metadata": {
  "kernelspec": {
   "display_name": "Python 3",
   "language": "python",
   "name": "python3"
  },
  "language_info": {
   "codemirror_mode": {
    "name": "ipython",
    "version": 3
   },
   "file_extension": ".py",
   "mimetype": "text/x-python",
   "name": "python",
   "nbconvert_exporter": "python",
   "pygments_lexer": "ipython3",
   "version": "3.6.6"
  }
 },
 "nbformat": 4,
 "nbformat_minor": 2
}
