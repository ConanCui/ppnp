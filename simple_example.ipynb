{
 "cells": [
  {
   "cell_type": "code",
   "execution_count": 1,
   "metadata": {},
   "outputs": [],
   "source": [
    "import logging\n",
    "import tensorflow as tf\n",
    "\n",
    "from ppnp import PPNP\n",
    "from ppnp.training import train_model\n",
    "from ppnp.earlystopping import stopping_args\n",
    "from ppnp.data.io import load_dataset\n",
    "from ppnp.propagation import PPRExact, PPRPowerIteration"
   ]
  },
  {
   "cell_type": "code",
   "execution_count": 2,
   "metadata": {},
   "outputs": [],
   "source": [
    "tf.logging.set_verbosity(tf.logging.INFO)\n",
    "logging.basicConfig(\n",
    "        format='%(asctime)s: %(message)s',\n",
    "        datefmt='%Y-%m-%d %H:%M:%S',\n",
    "        level=logging.INFO)"
   ]
  },
  {
   "cell_type": "markdown",
   "metadata": {},
   "source": [
    "# Load dataset\n",
    "\n",
    "First we need to load the dataset we want to train on. The datasets used are in the `SparseGraph` format. This is just a class providing the adjacency, attribute and label matrices in a dense (`np.ndarray`) or sparse (`scipy.sparse.csr_matrix`) matrix format and some (in principle unnecessary) convenience functions.\n",
    "\n",
    "The four datasets from the paper (Cora-ML, Citeseer, PubMed and MS Academic) can be found in the directory `data`.\n",
    "\n",
    "For this example we choose the Cora-ML graph."
   ]
  },
  {
   "cell_type": "code",
   "execution_count": 3,
   "metadata": {},
   "outputs": [
    {
     "data": {
      "text/plain": [
       "<Undirected, unweighted and connected SparseGraph with 15962 edges (no self-loops). Data: adj_matrix (2810x2810), attr_matrix (2810x2879), labels (2810), node_names (2810), attr_names (2879), class_names (7)>"
      ]
     },
     "execution_count": 3,
     "metadata": {},
     "output_type": "execute_result"
    }
   ],
   "source": [
    "graph_name = 'cora_ml'\n",
    "graph = load_dataset(graph_name)\n",
    "graph.standardize(select_lcc=True)"
   ]
  },
  {
   "cell_type": "markdown",
   "metadata": {},
   "source": [
    "# Set up propagation\n",
    "\n",
    "Next we need to set up the proper propagation scheme. In the paper we've introduced the exact PPR propagation used in PPNP and the PPR power iteration propagation used in APPNP.\n",
    "\n",
    "Here we use the hyperparameters from the paper. We only need a different `alpha = 0.2` for MS Academic."
   ]
  },
  {
   "cell_type": "code",
   "execution_count": 4,
   "metadata": {},
   "outputs": [],
   "source": [
    "prop_ppnp = PPRExact(graph.adj_matrix, alpha=0.1)\n",
    "prop_appnp = PPRPowerIteration(graph.adj_matrix, alpha=0.1, niter=10)"
   ]
  },
  {
   "cell_type": "markdown",
   "metadata": {},
   "source": [
    "# Choose model hyperparameters\n",
    "\n",
    "Now we choose the hyperparameters. These are the ones used in the paper for all datasets.\n",
    "\n",
    "Notice that we choose the propagation for APPNP."
   ]
  },
  {
   "cell_type": "code",
   "execution_count": 5,
   "metadata": {},
   "outputs": [],
   "source": [
    "model_args = {\n",
    "    'hiddenunits': [64],\n",
    "    'reg_lambda': 5e-3,\n",
    "    'learning_rate': 0.01,\n",
    "    'keep_prob': 0.5,\n",
    "    'propagation': prop_appnp}"
   ]
  },
  {
   "cell_type": "markdown",
   "metadata": {},
   "source": [
    "# Train model\n",
    "\n",
    "Now we can train the model."
   ]
  },
  {
   "cell_type": "code",
   "execution_count": 6,
   "metadata": {},
   "outputs": [],
   "source": [
    "idx_split_args = {'ntrain_per_class': 20, 'nstopping': 500, 'nknown': 1500, 'seed': 2413340114}\n",
    "test = False\n",
    "save_result = False\n",
    "print_interval = 20"
   ]
  },
  {
   "cell_type": "code",
   "execution_count": 7,
   "metadata": {},
   "outputs": [
    {
     "name": "stderr",
     "output_type": "stream",
     "text": [
      "2019-02-25 12:40:21: PPNP: {'hiddenunits': [64], 'reg_lambda': 0.005, 'learning_rate': 0.01, 'keep_prob': 0.5, 'propagation': <ppnp.propagation.PPRPowerIteration object at 0x7f9736a80b70>}\n",
      "2019-02-25 12:40:21: Tensorflow seed: 3285412691\n",
      "2019-02-25 12:40:24: Step 0: Train loss = 2.26, train acc = 66.4, early stopping loss = 2.10, early stopping acc = 37.8 (1.180 sec)\n",
      "2019-02-25 12:40:25: Step 20: Train loss = 1.51, train acc = 97.1, early stopping loss = 1.66, early stopping acc = 80.8 (0.739 sec)\n",
      "2019-02-25 12:40:26: Step 40: Train loss = 1.26, train acc = 100.0, early stopping loss = 1.39, early stopping acc = 80.2 (0.624 sec)\n",
      "2019-02-25 12:40:26: Step 60: Train loss = 1.06, train acc = 100.0, early stopping loss = 1.25, early stopping acc = 81.0 (0.629 sec)\n",
      "2019-02-25 12:40:27: Step 80: Train loss = 0.94, train acc = 99.3, early stopping loss = 1.17, early stopping acc = 80.0 (0.638 sec)\n",
      "2019-02-25 12:40:28: Step 100: Train loss = 0.80, train acc = 100.0, early stopping loss = 1.10, early stopping acc = 81.0 (0.633 sec)\n",
      "2019-02-25 12:40:28: Step 120: Train loss = 0.79, train acc = 100.0, early stopping loss = 1.04, early stopping acc = 81.0 (0.609 sec)\n",
      "2019-02-25 12:40:29: Step 140: Train loss = 0.73, train acc = 100.0, early stopping loss = 1.00, early stopping acc = 81.4 (0.634 sec)\n",
      "2019-02-25 12:40:29: Step 160: Train loss = 0.70, train acc = 100.0, early stopping loss = 1.01, early stopping acc = 80.0 (0.625 sec)\n",
      "2019-02-25 12:40:30: Step 180: Train loss = 0.72, train acc = 100.0, early stopping loss = 0.98, early stopping acc = 81.4 (0.622 sec)\n",
      "2019-02-25 12:40:31: Step 200: Train loss = 0.65, train acc = 100.0, early stopping loss = 0.93, early stopping acc = 82.0 (0.624 sec)\n",
      "2019-02-25 12:40:31: Step 220: Train loss = 0.66, train acc = 100.0, early stopping loss = 0.90, early stopping acc = 82.4 (0.631 sec)\n",
      "2019-02-25 12:40:32: Step 240: Train loss = 0.68, train acc = 100.0, early stopping loss = 0.90, early stopping acc = 81.4 (0.622 sec)\n",
      "2019-02-25 12:40:33: Step 260: Train loss = 0.65, train acc = 100.0, early stopping loss = 0.92, early stopping acc = 81.4 (0.616 sec)\n",
      "2019-02-25 12:40:33: Step 280: Train loss = 0.54, train acc = 100.0, early stopping loss = 0.87, early stopping acc = 81.2 (0.630 sec)\n",
      "2019-02-25 12:40:34: Step 300: Train loss = 0.66, train acc = 100.0, early stopping loss = 0.87, early stopping acc = 81.8 (0.617 sec)\n",
      "2019-02-25 12:40:34: Step 320: Train loss = 0.59, train acc = 100.0, early stopping loss = 0.89, early stopping acc = 80.6 (0.615 sec)\n",
      "2019-02-25 12:40:35: Step 340: Train loss = 0.51, train acc = 99.3, early stopping loss = 0.83, early stopping acc = 82.0 (0.624 sec)\n",
      "2019-02-25 12:40:36: Step 360: Train loss = 0.55, train acc = 100.0, early stopping loss = 0.87, early stopping acc = 82.0 (0.629 sec)\n",
      "2019-02-25 12:40:36: Step 380: Train loss = 0.55, train acc = 100.0, early stopping loss = 0.82, early stopping acc = 80.8 (0.617 sec)\n",
      "2019-02-25 12:40:37: Step 400: Train loss = 0.49, train acc = 100.0, early stopping loss = 0.87, early stopping acc = 80.2 (0.632 sec)\n",
      "2019-02-25 12:40:38: Step 420: Train loss = 0.53, train acc = 100.0, early stopping loss = 0.80, early stopping acc = 83.0 (0.637 sec)\n",
      "2019-02-25 12:40:38: Step 440: Train loss = 0.51, train acc = 100.0, early stopping loss = 0.87, early stopping acc = 80.8 (0.614 sec)\n",
      "2019-02-25 12:40:39: Step 460: Train loss = 0.54, train acc = 100.0, early stopping loss = 0.88, early stopping acc = 80.0 (0.632 sec)\n",
      "2019-02-25 12:40:39: Step 480: Train loss = 0.49, train acc = 100.0, early stopping loss = 0.81, early stopping acc = 82.4 (0.624 sec)\n",
      "2019-02-25 12:40:40: Step 500: Train loss = 0.48, train acc = 100.0, early stopping loss = 0.80, early stopping acc = 82.2 (0.618 sec)\n",
      "2019-02-25 12:40:41: Step 520: Train loss = 0.44, train acc = 100.0, early stopping loss = 0.81, early stopping acc = 80.0 (0.622 sec)\n",
      "2019-02-25 12:40:41: Step 540: Train loss = 0.48, train acc = 100.0, early stopping loss = 0.84, early stopping acc = 79.0 (0.616 sec)\n",
      "2019-02-25 12:40:42: Step 560: Train loss = 0.48, train acc = 100.0, early stopping loss = 0.80, early stopping acc = 80.8 (0.626 sec)\n",
      "2019-02-25 12:40:43: Step 580: Train loss = 0.47, train acc = 100.0, early stopping loss = 0.77, early stopping acc = 82.8 (0.617 sec)\n",
      "2019-02-25 12:40:43: Step 600: Train loss = 0.52, train acc = 100.0, early stopping loss = 0.78, early stopping acc = 82.6 (0.613 sec)\n",
      "2019-02-25 12:40:44: Step 620: Train loss = 0.48, train acc = 100.0, early stopping loss = 0.86, early stopping acc = 80.8 (0.616 sec)\n",
      "2019-02-25 12:40:44: Step 640: Train loss = 0.47, train acc = 100.0, early stopping loss = 0.87, early stopping acc = 79.8 (0.607 sec)\n",
      "2019-02-25 12:40:45: Step 660: Train loss = 0.45, train acc = 100.0, early stopping loss = 0.82, early stopping acc = 82.4 (0.629 sec)\n",
      "2019-02-25 12:40:46: Step 680: Train loss = 0.46, train acc = 100.0, early stopping loss = 0.81, early stopping acc = 81.8 (0.626 sec)\n",
      "2019-02-25 12:40:46: Step 700: Train loss = 0.50, train acc = 99.3, early stopping loss = 0.85, early stopping acc = 79.0 (0.619 sec)\n",
      "2019-02-25 12:40:46: Last step: 702, best step: 602 (23.169 sec)\n",
      "2019-02-25 12:40:47: Early stopping accuracy: 84.2%, early stopping F1 score: 0.826\n",
      "2019-02-25 12:40:47: Validation accuracy: 85.5%, val F1 score: 0.841\n",
      "2019-02-25 12:40:47: \n",
      "Labels         0    1    2    3    4    5    6\n",
      "Predictions                                   \n",
      "0            281   10    1   14    6    5    1\n",
      "1              7  291    3   32   19    8    2\n",
      "2             10    1  419    0    8    0    8\n",
      "3              0    6    0  301   16    0    1\n",
      "4             15   42    6   50  710    3    6\n",
      "5             31   31    0    1    7  132    0\n",
      "6              4   12   11    9   15    2  273\n"
     ]
    }
   ],
   "source": [
    "result = train_model(\n",
    "        graph_name, PPNP, graph, model_args, idx_split_args,\n",
    "        stopping_args, test, save_result, print_interval)"
   ]
  }
 ],
 "metadata": {
  "kernelspec": {
   "display_name": "Python 3",
   "language": "python",
   "name": "python3"
  },
  "language_info": {
   "codemirror_mode": {
    "name": "ipython",
    "version": 3
   },
   "file_extension": ".py",
   "mimetype": "text/x-python",
   "name": "python",
   "nbconvert_exporter": "python",
   "pygments_lexer": "ipython3",
   "version": "3.6.6"
  }
 },
 "nbformat": 4,
 "nbformat_minor": 2
}
